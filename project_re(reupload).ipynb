{
 "cells": [
  {
   "cell_type": "code",
   "execution_count": 1,
   "metadata": {},
   "outputs": [],
   "source": [
    "import pandas as pd\n",
    "import numpy as np\n",
    "import requests\n",
    "import json\n",
    "import urllib\n",
    "import os.path"
   ]
  },
  {
   "cell_type": "code",
   "execution_count": 2,
   "metadata": {},
   "outputs": [],
   "source": [
    "link_f    = 'ml-latest-small/ml-latest-small/links.csv'\n",
    "poster_pt = 'posters/'\n",
    "download_posters = 9000\n",
    "\n",
    "headers = {'Accept':'application/json'}\n",
    "payload = {'api_key':'20047cd838219fb54d1f8fc32c45cda4'} ## api appiled from movie database\n",
    "response = requests.get('http://api.themoviedb.org/3/configuration',params=payload,headers=headers)\n",
    "response = json.loads(response.text)\n",
    "\n",
    "base_url = response['images']['base_url']+'w185'"
   ]
  },
  {
   "cell_type": "code",
   "execution_count": 3,
   "metadata": {},
   "outputs": [],
   "source": [
    "def get_poster(imdb,base_url):\n",
    "    #query themovie.org API for movie poster path.\n",
    "    file_path = ''\n",
    "    imdb_id = 'tt0{0}'.format(imdb)\n",
    "    movie_url = 'http://api.themoviedb.org/3/movie/{:}/images'.format(imdb_id)\n",
    "    response = requests.get(movie_url,params=payload,headers=headers)\n",
    "    try:\n",
    "        file_path = json.loads(response.text)['posters'][0]['file_path']\n",
    "    except:\n",
    "        print('Failed to get url for imdb: {0}'.format(imdb))\n",
    "\n",
    "    return base_url+file_path"
   ]
  },
  {
   "cell_type": "code",
   "execution_count": 4,
   "metadata": {},
   "outputs": [],
   "source": [
    "df_id = pd.read_csv(link_f,sep=',')\n",
    "idx_to_mv = {}\n",
    "for row in df_id.itertuples():\n",
    "    idx_to_mv[row[1]-1] = row[2]\n",
    "\n",
    "mvs = [0]*len(idx_to_mv.keys())\n",
    "for i in range(len(mvs)):\n",
    "    if i in idx_to_mv.keys() and len(str(idx_to_mv[i])) == 6:\n",
    "        mvs[i] = idx_to_mv[i]\n",
    "mvs = list(filter(lambda imdb:imdb!=0,mvs))\n",
    "mvs = mvs[:download_posters]\n",
    "total_mvs = len(mvs)"
   ]
  },
  {
   "cell_type": "code",
   "execution_count": 5,
   "metadata": {},
   "outputs": [],
   "source": [
    "#df_id = pd.read_csv(link_f,sep=',')\n",
    "#idx_to_mv = {}\n",
    "#for row in df_id.itertuples():\n",
    "#    idx_to_mv[row[1]-1] = row[2]\n",
    "\n",
    "#mvs = [0]*len(idx_to_mv.keys())\n",
    "##for i in range(len(mvs)):\n",
    "##    mvs[i] = idx_to_mv[i]\n",
    "#mvs =df_id.imdbId\n",
    "#mvs = list(filter(lambda imdb:imdb!=0,mvs))\n",
    "#mvs = mvs[:download_posters]\n",
    "#total_mvs = len(mvs)"
   ]
  },
  {
   "cell_type": "code",
   "execution_count": 6,
   "metadata": {},
   "outputs": [
    {
     "name": "stdout",
     "output_type": "stream",
     "text": [
      "114746\n"
     ]
    }
   ],
   "source": [
    "\n",
    "movie=np.array(mvs)\n",
    "print(mvs[31])\n"
   ]
  },
  {
   "cell_type": "code",
   "execution_count": null,
   "metadata": {
    "scrolled": true
   },
   "outputs": [],
   "source": [
    "URL = [0]*total_mvs\n",
    "URL_IMDB = {'url':[],'imdb':[]}\n",
    "\n",
    "i = 0\n",
    "for m in mvs:\n",
    "    if(os.path.exists(poster_pt+str(i)+'.jpg')):\n",
    "        print('Skip downloading exists jpg: {0}.jpg'.format(poster_pt+str(i)))\n",
    "        i += 1\n",
    "        continue\n",
    "    URL[i] = get_poster(m,base_url)\n",
    "    if(URL[i] == base_url):\n",
    "        print('Bad imdb id: {0}'.format(m))\n",
    "        mvs.remove(m)\n",
    "        continue\n",
    "    print('No.{0}: Downloading jpg(imdb {1}) {2}'.format(i,m,URL[i]))\n",
    "    urllib.request.urlretrieve(URL[i],poster_pt+str(i)+'.jpg')\n",
    "    URL_IMDB['url'].append(URL[i])\n",
    "    URL_IMDB['imdb'].append(m)\n",
    "    i += 1"
   ]
  },
  {
   "cell_type": "code",
   "execution_count": 8,
   "metadata": {},
   "outputs": [
    {
     "name": "stdout",
     "output_type": "stream",
     "text": [
      "(3077,)\n"
     ]
    }
   ],
   "source": [
    "movie=np.array(mvs)\n",
    "print(movie.shape)"
   ]
  },
  {
   "cell_type": "code",
   "execution_count": 10,
   "metadata": {},
   "outputs": [],
   "source": [
    "from keras.applications import VGG16\n",
    "from keras.applications.vgg16 import preprocess_input\n",
    "from keras.preprocessing import image as kimage\n"
   ]
  },
  {
   "cell_type": "code",
   "execution_count": null,
   "metadata": {},
   "outputs": [],
   "source": [
    "image = [0]*total_mvs\n",
    "x     = [0]*total_mvs\n",
    "print(image)"
   ]
  },
  {
   "cell_type": "code",
   "execution_count": 11,
   "metadata": {},
   "outputs": [],
   "source": [
    "def save_predict_res(matrix_res):\n",
    "    pe = dict([(x,[]) for x in range(matrix_res.shape[0])])\n",
    "    for i in range(matrix_res.shape[0]):\n",
    "        pe[i].extend(matrix_res[i])\n",
    "    df = pd.DataFrame(data=pe)\n",
    "    df.to_csv('prediction_result.csv')"
   ]
  },
  {
   "cell_type": "code",
   "execution_count": 12,
   "metadata": {},
   "outputs": [],
   "source": [
    "def save_url_res(matrix_res):\n",
    "    pe = dict([(x,[]) for x in range(matrix_res.shape[0])])\n",
    "    for i in range(matrix_res.shape[0]):\n",
    "        pe[i].extend(matrix_res[i])\n",
    "    df = pd.DataFrame(data=pe)\n",
    "    df.to_csv('URL_IMDB.csv')"
   ]
  },
  {
   "cell_type": "code",
   "execution_count": 13,
   "metadata": {},
   "outputs": [],
   "source": [
    "def load_result_matrix(file):\n",
    "    if not os.path.exists(file):\n",
    "        return None\n",
    "    m_r = pd.read_csv(file,sep=',')\n",
    "    f_r = np.zeros((m_r.shape[1]-1,m_r.shape[0]))\n",
    "    for i in range(m_r.values.shape[1]-1):\n",
    "        f_r[i] = m_r[str(i)].values.tolist()\n",
    "    return f_r\n",
    "\n",
    "## no need to use\n",
    "## if you run this for second time, you need to use"
   ]
  },
  {
   "cell_type": "code",
   "execution_count": 14,
   "metadata": {},
   "outputs": [],
   "source": [
    "import tensorflow as tf"
   ]
  },
  {
   "cell_type": "code",
   "execution_count": 15,
   "metadata": {},
   "outputs": [],
   "source": [
    "import h5py as h5py"
   ]
  },
  {
   "cell_type": "code",
   "execution_count": 23,
   "metadata": {
    "scrolled": false
   },
   "outputs": [],
   "source": [
    " resnet50=tf.keras.applications.resnet50.ResNet50(include_top=False,weights = 'imagenet', input_shape= (224, 224, 3),pooling='avg')\n",
    "    "
   ]
  },
  {
   "cell_type": "code",
   "execution_count": 24,
   "metadata": {},
   "outputs": [
    {
     "name": "stdout",
     "output_type": "stream",
     "text": [
      "3091\n"
     ]
    }
   ],
   "source": [
    "print(total_mvs)"
   ]
  },
  {
   "cell_type": "code",
   "execution_count": null,
   "metadata": {},
   "outputs": [],
   "source": [
    "res_mat=[]\n",
    "with tf.device('/device:GPU:0'):\n",
    "    for i in range(len(URL_IMDB['imdb'])):\n",
    "        image[i] = kimage.load_img(poster_pt+str(i)+'.jpg',target_size=(224,224))\n",
    "        x_ = tf.keras.preprocessing.image.img_to_array(image[i])\n",
    "        x_ = np.expand_dims(x_, axis=0)\n",
    "        x_ = tf.keras.applications.resnet50.preprocess_input(x_)\n",
    "        F = resnet50.predict(x_)\n",
    "        res_mat.append(F[0])\n",
    "        print(i)\n",
    "\n",
    "res_mat=np.array(res_mat)\n",
    "save_predict_res(res_mat)"
   ]
  },
  {
   "cell_type": "code",
   "execution_count": 28,
   "metadata": {},
   "outputs": [],
   "source": [
    "#res_mat = load_result_matrix('prediction_result')"
   ]
  },
  {
   "cell_type": "code",
   "execution_count": 45,
   "metadata": {},
   "outputs": [],
   "source": [
    "np.save('user_imdb.npy',URL_IMDB)\n",
    "np.save('predict_res.npy',res_mat)"
   ]
  },
  {
   "cell_type": "code",
   "execution_count": 36,
   "metadata": {},
   "outputs": [
    {
     "name": "stdout",
     "output_type": "stream",
     "text": [
      "(3063, 2048)\n"
     ]
    }
   ],
   "source": [
    "result=np.load('predict_res.npy')\n",
    "result=np.array(result)\n",
    "print(result.shape)"
   ]
  },
  {
   "cell_type": "code",
   "execution_count": 37,
   "metadata": {},
   "outputs": [],
   "source": [
    "res_mat=np.array(res_mat)"
   ]
  },
  {
   "cell_type": "code",
   "execution_count": 38,
   "metadata": {
    "scrolled": true
   },
   "outputs": [
    {
     "name": "stdout",
     "output_type": "stream",
     "text": [
      "(3063, 2048)\n"
     ]
    }
   ],
   "source": [
    "print(res_mat.shape)"
   ]
  },
  {
   "cell_type": "code",
   "execution_count": 39,
   "metadata": {},
   "outputs": [],
   "source": [
    "similarity_deep = res_mat.dot(res_mat.T)\n",
    "norms = np.array([np.sqrt(np.diagonal(similarity_deep))])\n",
    "similarity_deep = (similarity_deep/(norms*norms.T))"
   ]
  },
  {
   "cell_type": "code",
   "execution_count": 40,
   "metadata": {},
   "outputs": [
    {
     "name": "stdout",
     "output_type": "stream",
     "text": [
      "112364\n",
      "[115]\n"
     ]
    }
   ],
   "source": [
    "klist=URL_IMDB['imdb']\n",
    "pos=[i for i,m in enumerate(klist) if m==112364]\n",
    "print(URL_IMDB['imdb'][115])\n",
    "print(pos)"
   ]
  },
  {
   "cell_type": "code",
   "execution_count": 161,
   "metadata": {},
   "outputs": [
    {
     "name": "stdout",
     "output_type": "stream",
     "text": [
      "32\n",
      "[31]\n"
     ]
    }
   ],
   "source": [
    "rating_f='ml-latest-small/ml-latest-small/ratings.csv'\n",
    "user=pd.read_csv(rating_f,sep=',')\n",
    "user_ID=8\n",
    "rates=user['rating'][np.where(user.userId==user_ID)[0]]\n",
    "#print(rates)\n",
    "movId=user['movieId'][np.where(user.userId==user_ID)[0]]\n",
    "#print(movId)\n",
    "movId=np.array(movId)\n",
    "rates=np.array(rates)\n",
    "#print(rates)\n",
    "ind=np.unravel_index(np.argmax(rates),rates.shape)## find the highest rating of a user\n",
    "base_mv_idx=movId[ind[0]]# translate it to movie id\n",
    "print(base_mv_idx)\n",
    "imdbID=df_id['imdbId'][np.where(df_id.movieId==base_mv_idx)[0]]# translate it to imdb id\n",
    "imdbID=np.array(imdbID)\n",
    "klist=URL_IMDB['imdb']\n",
    "pos=[i for i,m in enumerate(klist) if m==imdbID]# from imdb id we can get the index of this movie in our list\n",
    "base_mv_idx=pos\n",
    "print(base_mv_idx)"
   ]
  },
  {
   "cell_type": "code",
   "execution_count": 162,
   "metadata": {},
   "outputs": [],
   "source": [
    "n_display   = 5\n",
    "base_mv_idx= base_mv_idx[0]\n",
    "mv = [x for x in np.argsort(similarity_deep[base_mv_idx])[:-n_display-1:-1]]"
   ]
  },
  {
   "cell_type": "code",
   "execution_count": 163,
   "metadata": {},
   "outputs": [
    {
     "data": {
      "text/html": [
       "<img style='width: 100px; margin: 0px; float: left; border: 1px solid black;' src=posters/31.jpg /><img style='width: 100px; margin: 0px; float: left; border: 1px solid black;' src=posters/965.jpg /><img style='width: 100px; margin: 0px; float: left; border: 1px solid black;' src=posters/728.jpg /><img style='width: 100px; margin: 0px; float: left; border: 1px solid black;' src=posters/542.jpg /><img style='width: 100px; margin: 0px; float: left; border: 1px solid black;' src=posters/1313.jpg />"
      ],
      "text/plain": [
       "<IPython.core.display.HTML object>"
      ]
     },
     "metadata": {},
     "output_type": "display_data"
    }
   ],
   "source": [
    "# recommendation result\n",
    "\n",
    "from IPython.display import Image\n",
    "from IPython.display import display\n",
    "from IPython.display import HTML\n",
    "\n",
    "images = ''\n",
    "for i in range(len(mv)):\n",
    "    images+=\"<img style='width: 100px; margin: 0px; float: left; border: 1px solid black;' src={0}.jpg />\".format(poster_pt+str(mv[i]))\n",
    "\n",
    "display(HTML(images))"
   ]
  },
  {
   "cell_type": "code",
   "execution_count": 164,
   "metadata": {},
   "outputs": [
    {
     "name": "stdout",
     "output_type": "stream",
     "text": [
      "[64 54 44 83  0]\n",
      "[[], 1335, [], 2204, 31]\n"
     ]
    }
   ],
   "source": [
    "## show the highest 5 rates movies of the user\n",
    "\n",
    "user=pd.read_csv(rating_f,sep=',')\n",
    "user_ID=user_ID\n",
    "rates=user['rating'][np.where(user.userId==user_ID)[0]]\n",
    "movId=user['movieId'][np.where(user.userId==user_ID)[0]]\n",
    "movId=np.array(movId)\n",
    "rates=np.array(rates)\n",
    "ind=np.argpartition(rates, -5)[-5:]\n",
    "print(ind)\n",
    "wtf=np.zeros(5)\n",
    "for i in range(len(ind)):\n",
    "    imdbID=df_id['imdbId'][np.where(df_id.movieId==movId[ind[i]])[0]]## translate to imdb id\n",
    "    wtf[i]=np.array(imdbID)\n",
    "klist=URL_IMDB['imdb']\n",
    "for i in range(len(ind)):\n",
    "    mv[i]=[x for x,m in enumerate(klist) if m==wtf[i]]\n",
    "    if mv[i]!=[]:\n",
    "        mv[i]=mv[i][0]\n",
    "print(mv)"
   ]
  },
  {
   "cell_type": "code",
   "execution_count": 165,
   "metadata": {},
   "outputs": [
    {
     "data": {
      "text/html": [
       "<img style='width: 100px; margin: 0px; float: left; border: 1px solid black;' src=posters/[].jpg /><img style='width: 100px; margin: 0px; float: left; border: 1px solid black;' src=posters/1335.jpg /><img style='width: 100px; margin: 0px; float: left; border: 1px solid black;' src=posters/[].jpg /><img style='width: 100px; margin: 0px; float: left; border: 1px solid black;' src=posters/2204.jpg /><img style='width: 100px; margin: 0px; float: left; border: 1px solid black;' src=posters/31.jpg />"
      ],
      "text/plain": [
       "<IPython.core.display.HTML object>"
      ]
     },
     "metadata": {},
     "output_type": "display_data"
    }
   ],
   "source": [
    "### print the highest rated movie of a user\n",
    "\n",
    "from IPython.display import Image\n",
    "from IPython.display import display\n",
    "from IPython.display import HTML\n",
    "\n",
    "images = ''\n",
    "for i in range(len(mv)):\n",
    "    images+=\"<img style='width: 100px; margin: 0px; float: left; border: 1px solid black;' src={0}.jpg />\".format(poster_pt+str(mv[i]))\n",
    "\n",
    "display(HTML(images))"
   ]
  },
  {
   "cell_type": "code",
   "execution_count": 166,
   "metadata": {},
   "outputs": [
    {
     "name": "stdout",
     "output_type": "stream",
     "text": [
      "[  0.   1.   2.   3.   4.   5.   6.   7.   8.   9.  10.  11.  12.  13.\n",
      "  14.  15.  16.  17.  18.  19.  20.  21.  22.  23.  24.  25.  26.  27.\n",
      "  28.  29.  30.  31.  32.  33.  34.  35.  36.  37.  38.  39.  40.  41.\n",
      "  42.  43.  44.  45.  46.  47.  48.  49.  50.  51.  52.  53.  54.  55.\n",
      "  56.  57.  58.  59.  60.  61.  62.  63.  64.  65.  66.  67.  68.  69.\n",
      "  70.  71.  72.  73.  74.  75.  76.  77.  78.  79.  80.  81.  82.  83.\n",
      "  84.  85.  86.  87.  88.  89.  90.  91.  92.  93.  94.  95.  96.  97.\n",
      "  98.  99. 100. 101. 102. 103. 104. 105. 106. 107. 108. 109. 110. 111.\n",
      " 112. 113. 114. 115.]\n",
      "[31, 43, 45, 48, 100, [], 250, 262, 280, 317, 401, 460, 464, 466, 480, 513, 514, 533, 628, [], [], [], [], [], [], [], [], [], 767, [], [], [], 793, [], 810, 883, 913, 959, 965, [], 1021, 1048, 1059, 1117, [], 1164, [], [], [], 1243, 1257, 1261, 1273, [], 1335, 1365, [], 1450, 1455, [], [], [], 1487, 1493, [], 1525, 1590, 1749, 1867, 1875, 1906, 1910, 1916, 1929, 1984, [], 2055, 2148, 2154, 2165, 2170, 2180, 2182, 2204, 2295, 2317, 2329, 2389, [], 2399, 2461, 2473, 2579, 2580, 2699, 2702, 2705, 2779, 2785, 2841, 2857, 2952, 2986, 3014, 3015, [], [], [], [], [], [], [], [], [], [], []]\n"
     ]
    }
   ],
   "source": [
    "## using the rates of the same user to justify if our system is googd or not\n",
    "import math\n",
    "\n",
    "rating_f='ml-latest-small/ml-latest-small/ratings.csv'\n",
    "user=pd.read_csv(rating_f,sep=',')\n",
    "user_ID=user_ID\n",
    "rates=user['rating'][np.where(user.userId==user_ID)[0]]\n",
    "#print(rates)\n",
    "movId=user['movieId'][np.where(user.userId==user_ID)[0]]\n",
    "#print(movId)\n",
    "movId=np.array(movId)\n",
    "rates=np.array(rates)\n",
    "#imdbID=[]\n",
    "#for i in range(movId):\n",
    "#    a=df_id['imdbId'][np.where(df_id.movieId==movId[i])[0]]# find imdb id of every movieid\n",
    " #   imdbID.append(a)\n",
    "#position_id=[]\n",
    "#imdbID=np.array(imdbID)\n",
    "#klist=URL_IMDB['imdb']\n",
    "#for j in range(imdbID):\n",
    "#    b=[i for i,m in enumerate(klist) if m==imdbID[j]]# find movie index with respect to our result matrix\n",
    "#    position_id.append(b)\n",
    "#position_id=np.array(position_id)\n",
    "ind=np.linspace(0,len(rates)-1,len(rates))\n",
    "\n",
    "print(ind)\n",
    "wtf=np.zeros(len(ind))\n",
    "for i in range(len(ind)):\n",
    "    imdbID=df_id['imdbId'][np.where(df_id.movieId==movId[int(ind[i])])[0]]## translate to imdb id\n",
    "    wtf[i]=np.array(imdbID)\n",
    "klist=URL_IMDB['imdb']\n",
    "mv=[None]*len(ind)\n",
    "for i in range(len(ind)):\n",
    "    mv[i]=[x for x,m in enumerate(klist) if m==wtf[i]]\n",
    "    if mv[i]!=[]:\n",
    "        mv[i]=mv[i][0]\n",
    "print(mv)\n",
    "for i in range(len(mv)):\n",
    "    if mv[i]==[]:\n",
    "        rates[i]=None\n",
    "# delete all [] in rates\n",
    "clean_rt=list(filter(lambda imdb:not math.isnan(imdb),rates))\n",
    "# delete all [] in list mv\n",
    "clean_mv = list(filter(lambda imdb:imdb!=[],mv))\n",
    "mv=clean_mv"
   ]
  },
  {
   "cell_type": "code",
   "execution_count": 167,
   "metadata": {},
   "outputs": [
    {
     "data": {
      "text/html": [
       "<img style='width: 100px; margin: 0px; float: left; border: 1px solid black;' src=posters/31.jpg /><img style='width: 100px; margin: 0px; float: left; border: 1px solid black;' src=posters/43.jpg /><img style='width: 100px; margin: 0px; float: left; border: 1px solid black;' src=posters/45.jpg /><img style='width: 100px; margin: 0px; float: left; border: 1px solid black;' src=posters/48.jpg /><img style='width: 100px; margin: 0px; float: left; border: 1px solid black;' src=posters/100.jpg /><img style='width: 100px; margin: 0px; float: left; border: 1px solid black;' src=posters/250.jpg /><img style='width: 100px; margin: 0px; float: left; border: 1px solid black;' src=posters/262.jpg /><img style='width: 100px; margin: 0px; float: left; border: 1px solid black;' src=posters/280.jpg /><img style='width: 100px; margin: 0px; float: left; border: 1px solid black;' src=posters/317.jpg /><img style='width: 100px; margin: 0px; float: left; border: 1px solid black;' src=posters/401.jpg /><img style='width: 100px; margin: 0px; float: left; border: 1px solid black;' src=posters/460.jpg /><img style='width: 100px; margin: 0px; float: left; border: 1px solid black;' src=posters/464.jpg /><img style='width: 100px; margin: 0px; float: left; border: 1px solid black;' src=posters/466.jpg /><img style='width: 100px; margin: 0px; float: left; border: 1px solid black;' src=posters/480.jpg /><img style='width: 100px; margin: 0px; float: left; border: 1px solid black;' src=posters/513.jpg /><img style='width: 100px; margin: 0px; float: left; border: 1px solid black;' src=posters/514.jpg /><img style='width: 100px; margin: 0px; float: left; border: 1px solid black;' src=posters/533.jpg /><img style='width: 100px; margin: 0px; float: left; border: 1px solid black;' src=posters/628.jpg /><img style='width: 100px; margin: 0px; float: left; border: 1px solid black;' src=posters/767.jpg /><img style='width: 100px; margin: 0px; float: left; border: 1px solid black;' src=posters/793.jpg /><img style='width: 100px; margin: 0px; float: left; border: 1px solid black;' src=posters/810.jpg /><img style='width: 100px; margin: 0px; float: left; border: 1px solid black;' src=posters/883.jpg /><img style='width: 100px; margin: 0px; float: left; border: 1px solid black;' src=posters/913.jpg /><img style='width: 100px; margin: 0px; float: left; border: 1px solid black;' src=posters/959.jpg /><img style='width: 100px; margin: 0px; float: left; border: 1px solid black;' src=posters/965.jpg /><img style='width: 100px; margin: 0px; float: left; border: 1px solid black;' src=posters/1021.jpg /><img style='width: 100px; margin: 0px; float: left; border: 1px solid black;' src=posters/1048.jpg /><img style='width: 100px; margin: 0px; float: left; border: 1px solid black;' src=posters/1059.jpg /><img style='width: 100px; margin: 0px; float: left; border: 1px solid black;' src=posters/1117.jpg /><img style='width: 100px; margin: 0px; float: left; border: 1px solid black;' src=posters/1164.jpg /><img style='width: 100px; margin: 0px; float: left; border: 1px solid black;' src=posters/1243.jpg /><img style='width: 100px; margin: 0px; float: left; border: 1px solid black;' src=posters/1257.jpg /><img style='width: 100px; margin: 0px; float: left; border: 1px solid black;' src=posters/1261.jpg /><img style='width: 100px; margin: 0px; float: left; border: 1px solid black;' src=posters/1273.jpg /><img style='width: 100px; margin: 0px; float: left; border: 1px solid black;' src=posters/1335.jpg /><img style='width: 100px; margin: 0px; float: left; border: 1px solid black;' src=posters/1365.jpg /><img style='width: 100px; margin: 0px; float: left; border: 1px solid black;' src=posters/1450.jpg /><img style='width: 100px; margin: 0px; float: left; border: 1px solid black;' src=posters/1455.jpg /><img style='width: 100px; margin: 0px; float: left; border: 1px solid black;' src=posters/1487.jpg /><img style='width: 100px; margin: 0px; float: left; border: 1px solid black;' src=posters/1493.jpg /><img style='width: 100px; margin: 0px; float: left; border: 1px solid black;' src=posters/1525.jpg /><img style='width: 100px; margin: 0px; float: left; border: 1px solid black;' src=posters/1590.jpg /><img style='width: 100px; margin: 0px; float: left; border: 1px solid black;' src=posters/1749.jpg /><img style='width: 100px; margin: 0px; float: left; border: 1px solid black;' src=posters/1867.jpg /><img style='width: 100px; margin: 0px; float: left; border: 1px solid black;' src=posters/1875.jpg /><img style='width: 100px; margin: 0px; float: left; border: 1px solid black;' src=posters/1906.jpg /><img style='width: 100px; margin: 0px; float: left; border: 1px solid black;' src=posters/1910.jpg /><img style='width: 100px; margin: 0px; float: left; border: 1px solid black;' src=posters/1916.jpg /><img style='width: 100px; margin: 0px; float: left; border: 1px solid black;' src=posters/1929.jpg /><img style='width: 100px; margin: 0px; float: left; border: 1px solid black;' src=posters/1984.jpg /><img style='width: 100px; margin: 0px; float: left; border: 1px solid black;' src=posters/2055.jpg /><img style='width: 100px; margin: 0px; float: left; border: 1px solid black;' src=posters/2148.jpg /><img style='width: 100px; margin: 0px; float: left; border: 1px solid black;' src=posters/2154.jpg /><img style='width: 100px; margin: 0px; float: left; border: 1px solid black;' src=posters/2165.jpg /><img style='width: 100px; margin: 0px; float: left; border: 1px solid black;' src=posters/2170.jpg /><img style='width: 100px; margin: 0px; float: left; border: 1px solid black;' src=posters/2180.jpg /><img style='width: 100px; margin: 0px; float: left; border: 1px solid black;' src=posters/2182.jpg /><img style='width: 100px; margin: 0px; float: left; border: 1px solid black;' src=posters/2204.jpg /><img style='width: 100px; margin: 0px; float: left; border: 1px solid black;' src=posters/2295.jpg /><img style='width: 100px; margin: 0px; float: left; border: 1px solid black;' src=posters/2317.jpg /><img style='width: 100px; margin: 0px; float: left; border: 1px solid black;' src=posters/2329.jpg /><img style='width: 100px; margin: 0px; float: left; border: 1px solid black;' src=posters/2389.jpg /><img style='width: 100px; margin: 0px; float: left; border: 1px solid black;' src=posters/2399.jpg /><img style='width: 100px; margin: 0px; float: left; border: 1px solid black;' src=posters/2461.jpg /><img style='width: 100px; margin: 0px; float: left; border: 1px solid black;' src=posters/2473.jpg /><img style='width: 100px; margin: 0px; float: left; border: 1px solid black;' src=posters/2579.jpg /><img style='width: 100px; margin: 0px; float: left; border: 1px solid black;' src=posters/2580.jpg /><img style='width: 100px; margin: 0px; float: left; border: 1px solid black;' src=posters/2699.jpg /><img style='width: 100px; margin: 0px; float: left; border: 1px solid black;' src=posters/2702.jpg /><img style='width: 100px; margin: 0px; float: left; border: 1px solid black;' src=posters/2705.jpg /><img style='width: 100px; margin: 0px; float: left; border: 1px solid black;' src=posters/2779.jpg /><img style='width: 100px; margin: 0px; float: left; border: 1px solid black;' src=posters/2785.jpg /><img style='width: 100px; margin: 0px; float: left; border: 1px solid black;' src=posters/2841.jpg /><img style='width: 100px; margin: 0px; float: left; border: 1px solid black;' src=posters/2857.jpg /><img style='width: 100px; margin: 0px; float: left; border: 1px solid black;' src=posters/2952.jpg /><img style='width: 100px; margin: 0px; float: left; border: 1px solid black;' src=posters/2986.jpg /><img style='width: 100px; margin: 0px; float: left; border: 1px solid black;' src=posters/3014.jpg /><img style='width: 100px; margin: 0px; float: left; border: 1px solid black;' src=posters/3015.jpg />"
      ],
      "text/plain": [
       "<IPython.core.display.HTML object>"
      ]
     },
     "metadata": {},
     "output_type": "display_data"
    }
   ],
   "source": [
    "### print the all rated movie of a user\n",
    "\n",
    "from IPython.display import Image\n",
    "from IPython.display import display\n",
    "from IPython.display import HTML\n",
    "\n",
    "images = ''\n",
    "for i in range(len(mv)):\n",
    "    images+=\"<img style='width: 100px; margin: 0px; float: left; border: 1px solid black;' src={0}.jpg />\".format(poster_pt+str(mv[i]))\n",
    "\n",
    "display(HTML(images))"
   ]
  },
  {
   "cell_type": "code",
   "execution_count": 168,
   "metadata": {},
   "outputs": [
    {
     "name": "stdout",
     "output_type": "stream",
     "text": [
      "3.960434998637624\n",
      "4.5\n"
     ]
    }
   ],
   "source": [
    "# split the rated movie into train and test\n",
    "# train for first half movies in the list mv\n",
    "# test for the remainings\n",
    "t_tr=int(len(mv)/2)\n",
    "tr_mv=mv[:t_tr]\n",
    "#print(mv[t_tr])\n",
    "keylist=([x for x in np.argsort(similarity_deep[mv[t_tr]])])# get similarity matrix based on the first test movie\n",
    "last_sim_rate=0\n",
    "last_sim=0\n",
    "sim_rate=0\n",
    "for j in range(len(tr_mv)):\n",
    "    \n",
    "    test_rate_1_sim=[i for i,m in enumerate(keylist) if m==tr_mv[j]]# get movie position(similarity distance) based on similarity matrix\n",
    "    sim=3062-test_rate_1_sim[0]\n",
    "    sim_rate=clean_rt[j]*sim\n",
    "    last_sim_rate=last_sim_rate+sim_rate## calculate the fen zi\n",
    "    last_sim=last_sim+sim\n",
    "print(last_sim_rate/last_sim)\n",
    "print(clean_rt[t_tr])"
   ]
  },
  {
   "cell_type": "code",
   "execution_count": 174,
   "metadata": {},
   "outputs": [
    {
     "name": "stdout",
     "output_type": "stream",
     "text": [
      "[3.87408596 4.11954456 4.02403996 4.07951697 4.13139385 4.28075446\n",
      " 3.83081346 4.86697563 3.44987633 4.06369713 3.98532294 3.97698098\n",
      " 4.51345042 3.98386751 4.33166359 3.70927814 4.0377045  4.17223575\n",
      " 3.94016049 4.08772904 4.36783728 4.28753587 3.8483493  4.46063935\n",
      " 4.16406425 4.43354384 3.96020511 4.46297269 4.20737227 4.37512453\n",
      " 4.43878847 4.09931713 3.94746153 4.29281946 4.56190057 4.3040087\n",
      " 3.91013464 4.22194047 3.99706396]\n",
      "[4.5 4.  4.5 5.  3.5 4.  4.  4.5 3.5 4.5 5.  2.5 3.5 3.5 4.5 4.  3.5 3.5\n",
      " 5.  3.5 4.5 4.  4.  3.  4.  3.5 4.  3.  4.  5.  3.  3.5 4.  4.  4.  2.5\n",
      " 4.5 4.  3. ]\n"
     ]
    }
   ],
   "source": [
    "# now test for all rest of movies\n",
    "t_tr=int(len(mv)/2)\n",
    "tr_mv=mv[:t_tr]## split train test samples\n",
    "te_mv=mv[t_tr:]\n",
    "last_sim_rate=np.zeros(len(te_mv))\n",
    "last_sim=np.zeros(len(te_mv))\n",
    "sim_rate=0\n",
    "predict_rate=np.zeros(len(te_mv))\n",
    "for k in range(len(te_mv)):\n",
    "    keylist=([x for x in np.argsort(similarity_deep[te_mv[k]])])# get similarity matrix based on the first test movie\n",
    "    for j in range(len(tr_mv)):# calculate for all training sets\n",
    "    \n",
    "        test_rate_1_sim=[i for i,m in enumerate(keylist) if m==tr_mv[j]]# get movie position(similarity distance) based on similarity matrix\n",
    "        sim=test_rate_1_sim[0]/3062# the more this score, the more similar\n",
    "        sim_rate=clean_rt[j]*sim\n",
    "        last_sim_rate[k]=last_sim_rate[k]+sim_rate## calculate the fen zi\n",
    "        last_sim[k]=last_sim[k]+sim## calculate fen mu\n",
    "        predict_rate[k]=(last_sim_rate[k]/last_sim[k])\n",
    "clean_rt_x=np.array(clean_rt[t_tr:])\n",
    "predict_rate=np.array(predict_rate)\n",
    "predict_rate=(predict_rate-3.0)*5\n",
    "print(predict_rate)\n",
    "print(clean_rt_x)\n"
   ]
  },
  {
   "cell_type": "code",
   "execution_count": 175,
   "metadata": {},
   "outputs": [
    {
     "data": {
      "text/plain": [
       "[<matplotlib.lines.Line2D at 0x19ca8489e10>]"
      ]
     },
     "execution_count": 175,
     "metadata": {},
     "output_type": "execute_result"
    },
    {
     "data": {
      "image/png": "[encoded data removed]",
      "text/plain": [
       "<Figure size 432x288 with 1 Axes>"
      ]
     },
     "metadata": {},
     "output_type": "display_data"
    }
   ],
   "source": [
    "import matplotlib.pyplot as plt\n",
    "plt.plot(predict_rate)\n",
    "plt.plot(clean_rt[t_tr:])"
   ]
  },
  {
   "cell_type": "code",
   "execution_count": 131,
   "metadata": {},
   "outputs": [
    {
     "data": {
      "text/plain": [
       "15"
      ]
     },
     "execution_count": 131,
     "metadata": {},
     "output_type": "execute_result"
    }
   ],
   "source": [
    "len(predict_rate)"
   ]
  },
  {
   "cell_type": "code",
   "execution_count": 133,
   "metadata": {},
   "outputs": [
    {
     "data": {
      "text/plain": [
       "15"
      ]
     },
     "execution_count": 133,
     "metadata": {},
     "output_type": "execute_result"
    }
   ],
   "source": [
    "len(clean_rt[t_tr:])"
   ]
  },
  {
   "cell_type": "code",
   "execution_count": null,
   "metadata": {},
   "outputs": [],
   "source": [
    "L=np.load('user_imdb.npy')\n",
    "print(L)"
   ]
  },
  {
   "cell_type": "code",
   "execution_count": 184,
   "metadata": {},
   "outputs": [],
   "source": [
    "np.save('url_imdburl.npy',URL_IMDB['url'])\n",
    "np.save('url_imdbimdb.npy',URL_IMDB['imdb'])"
   ]
  },
  {
   "cell_type": "code",
   "execution_count": 189,
   "metadata": {},
   "outputs": [
    {
     "name": "stdout",
     "output_type": "stream",
     "text": [
      "[114709 113497 113228 ... 106912 364517 391024]\n"
     ]
    }
   ],
   "source": [
    "L=np.load('url_imdbimdb.npy')\n",
    "print(L)"
   ]
  },
  {
   "cell_type": "code",
   "execution_count": null,
   "metadata": {},
   "outputs": [],
   "source": []
  }
 ],
 "metadata": {
  "kernelspec": {
   "display_name": "Python 3",
   "language": "python",
   "name": "python3"
  },
  "language_info": {
   "codemirror_mode": {
    "name": "ipython",
    "version": 3
   },
   "file_extension": ".py",
   "mimetype": "text/x-python",
   "name": "python",
   "nbconvert_exporter": "python",
   "pygments_lexer": "ipython3",
   "version": "3.6.5"
  }
 },
 "nbformat": 4,
 "nbformat_minor": 2
}
